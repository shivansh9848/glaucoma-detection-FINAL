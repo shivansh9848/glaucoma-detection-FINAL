{
  "cells": [
    {
      "cell_type": "code",
      "execution_count": null,
      "metadata": {
        "colab": {
          "base_uri": "https://localhost:8080/",
          "height": 121
        },
        "colab_type": "code",
        "id": "0citrj2JWU-h",
        "outputId": "43f69cc5-6994-40c2-bc48-7d2c36dbb4ad"
      },
      "outputs": [
        {
          "name": "stdout",
          "output_type": "stream",
          "text": [
            "Go to this URL in a browser: https://accounts.google.com/o/oauth2/auth?client_id=947318989803-6bn6qk8qdgf4n4g3pfee6491hc0brc4i.apps.googleusercontent.com&redirect_uri=urn%3aietf%3awg%3aoauth%3a2.0%3aoob&response_type=code&scope=email%20https%3a%2f%2fwww.googleapis.com%2fauth%2fdocs.test%20https%3a%2f%2fwww.googleapis.com%2fauth%2fdrive%20https%3a%2f%2fwww.googleapis.com%2fauth%2fdrive.photos.readonly%20https%3a%2f%2fwww.googleapis.com%2fauth%2fpeopleapi.readonly\n",
            "\n",
            "Enter your authorization code:\n",
            "··········\n",
            "Mounted at /content/drive\n"
          ]
        }
      ],
      "source": [
        "from google.colab import drive\n",
        "drive.mount('/content/drive')"
      ]
    },
    {
      "cell_type": "code",
      "execution_count": null,
      "metadata": {
        "colab": {
          "base_uri": "https://localhost:8080/",
          "height": 34
        },
        "colab_type": "code",
        "id": "L8OsbAmhWqP-",
        "outputId": "60b6747a-33c3-4c4f-d7eb-5379f39947aa"
      },
      "outputs": [
        {
          "name": "stdout",
          "output_type": "stream",
          "text": [
            "['test', 'train']\n"
          ]
        }
      ],
      "source": [
        "import os\n",
        "print(os.listdir((\"/content/drive/My Drive/Colab_Project/glaucoma\")))"
      ]
    },
    {
      "cell_type": "code",
      "execution_count": null,
      "metadata": {
        "colab": {},
        "colab_type": "code",
        "id": "eIjxmKzsWqYB"
      },
      "outputs": [],
      "source": [
        "from keras.models import Sequential\n",
        "from keras.layers import Conv2D\n",
        "from keras.layers import MaxPooling2D\n",
        "from keras.layers import Flatten\n",
        "from keras.layers import Dense\n",
        "# Initialising the CNN\n",
        "classifier = Sequential()\n",
        "# Step 1 - Convolution\n",
        "classifier.add(Conv2D(32, (3, 3), input_shape = (256,256, 3), activation = 'relu'))\n",
        "# Step 2 - Pooling\n",
        "classifier.add(MaxPooling2D(pool_size = (2, 2)))\n",
        "# Adding a second convolutional layer\n",
        "classifier.add(Conv2D(32, (3, 3), activation = 'relu'))\n",
        "classifier.add(MaxPooling2D(pool_size = (2, 2)))\n",
        "# Step 3 - Flattening\n",
        "classifier.add(Flatten())\n",
        "# Step 4 - Full connection\n",
        "classifier.add(Dense(units = 128, activation = 'relu'))\n",
        "classifier.add(Dense(units = 1, activation = 'sigmoid'))\n",
        "# Compiling the CNN\n",
        "classifier.compile(optimizer = 'adam', loss = 'binary_crossentropy', metrics = ['accuracy'])"
      ]
    },
    {
      "cell_type": "code",
      "execution_count": null,
      "metadata": {
        "colab": {
          "base_uri": "https://localhost:8080/",
          "height": 50
        },
        "colab_type": "code",
        "id": "QPmdewLQWqcw",
        "outputId": "b3fb0cee-5f90-4376-823a-b76277883e10"
      },
      "outputs": [
        {
          "name": "stdout",
          "output_type": "stream",
          "text": [
            "Found 455 images belonging to 2 classes.\n",
            "Found 64 images belonging to 2 classes.\n"
          ]
        }
      ],
      "source": [
        "from keras.preprocessing.image import ImageDataGenerator\n",
        "train_datagen = ImageDataGenerator(rescale = 1./255,\n",
        "shear_range = 0.2,\n",
        "zoom_range = 0.2,\n",
        "horizontal_flip = True)\n",
        "# print(train_datagen)\n",
        "test_datagen = ImageDataGenerator(rescale = 1./255)\n",
        "training_set = train_datagen.flow_from_directory('/content/drive/My Drive/Colab_Project/glaucoma/train',\n",
        "target_size = (256,256),\n",
        "batch_size = 32,\n",
        "class_mode = 'binary')\n",
        "# print(test_datagen)\n",
        "test_set = test_datagen.flow_from_directory('/content/drive/My Drive/Colab_Project/glaucoma/test',\n",
        "target_size = (256,256),\n",
        "batch_size = 32,\n",
        "class_mode = 'binary')"
      ]
    },
    {
      "cell_type": "code",
      "execution_count": null,
      "metadata": {
        "colab": {
          "base_uri": "https://localhost:8080/",
          "height": 1000
        },
        "colab_type": "code",
        "id": "1CXpZx3AWqjm",
        "outputId": "ed1921a0-7a0d-4a21-e10d-06e3e057eaef"
      },
      "outputs": [
        {
          "name": "stdout",
          "output_type": "stream",
          "text": [
            "Epoch 1/30\n",
            "15/14 [===============================] - 10s 689ms/step - loss: 1.0452 - accuracy: 0.5626 - val_loss: 0.6331 - val_accuracy: 0.6875\n",
            "Epoch 2/30\n",
            "15/14 [===============================] - 10s 680ms/step - loss: 0.5588 - accuracy: 0.7143 - val_loss: 0.6265 - val_accuracy: 0.5312\n",
            "Epoch 3/30\n",
            "15/14 [===============================] - 6s 385ms/step - loss: 0.4650 - accuracy: 0.7626 - val_loss: 0.6195 - val_accuracy: 0.7188\n",
            "Epoch 4/30\n",
            "15/14 [===============================] - 8s 561ms/step - loss: 0.5318 - accuracy: 0.7385 - val_loss: 0.4525 - val_accuracy: 0.8438\n",
            "Epoch 5/30\n",
            "15/14 [===============================] - 9s 589ms/step - loss: 0.4788 - accuracy: 0.7736 - val_loss: 0.4961 - val_accuracy: 0.7812\n",
            "Epoch 6/30\n",
            "15/14 [===============================] - 9s 567ms/step - loss: 0.4347 - accuracy: 0.7912 - val_loss: 0.6898 - val_accuracy: 0.6562\n",
            "Epoch 7/30\n",
            "15/14 [===============================] - 9s 578ms/step - loss: 0.4876 - accuracy: 0.7824 - val_loss: 0.5732 - val_accuracy: 0.7188\n",
            "Epoch 8/30\n",
            "15/14 [===============================] - 8s 556ms/step - loss: 0.4332 - accuracy: 0.8110 - val_loss: 0.4026 - val_accuracy: 0.8125\n",
            "Epoch 9/30\n",
            "15/14 [===============================] - 9s 582ms/step - loss: 0.4201 - accuracy: 0.8000 - val_loss: 0.5606 - val_accuracy: 0.6875\n",
            "Epoch 10/30\n",
            "15/14 [===============================] - 8s 560ms/step - loss: 0.3759 - accuracy: 0.8418 - val_loss: 0.3582 - val_accuracy: 0.7812\n",
            "Epoch 11/30\n",
            "15/14 [===============================] - 9s 578ms/step - loss: 0.4087 - accuracy: 0.8440 - val_loss: 0.2966 - val_accuracy: 0.8750\n",
            "Epoch 12/30\n",
            "15/14 [===============================] - 8s 556ms/step - loss: 0.3606 - accuracy: 0.8352 - val_loss: 0.4183 - val_accuracy: 0.7812\n",
            "Epoch 13/30\n",
            "15/14 [===============================] - 9s 582ms/step - loss: 0.3248 - accuracy: 0.8681 - val_loss: 0.3952 - val_accuracy: 0.8438\n",
            "Epoch 14/30\n",
            "15/14 [===============================] - 8s 560ms/step - loss: 0.3509 - accuracy: 0.8571 - val_loss: 0.3134 - val_accuracy: 0.8750\n",
            "Epoch 15/30\n",
            "15/14 [===============================] - 9s 594ms/step - loss: 0.2976 - accuracy: 0.8791 - val_loss: 0.4939 - val_accuracy: 0.7188\n",
            "Epoch 16/30\n",
            "15/14 [===============================] - 9s 579ms/step - loss: 0.2962 - accuracy: 0.8791 - val_loss: 0.2822 - val_accuracy: 0.8438\n",
            "Epoch 17/30\n",
            "15/14 [===============================] - 9s 580ms/step - loss: 0.3342 - accuracy: 0.8681 - val_loss: 0.2620 - val_accuracy: 0.8750\n",
            "Epoch 18/30\n",
            "15/14 [===============================] - 8s 557ms/step - loss: 0.3056 - accuracy: 0.8659 - val_loss: 0.2791 - val_accuracy: 0.8750\n",
            "Epoch 19/30\n",
            "15/14 [===============================] - 9s 574ms/step - loss: 0.3252 - accuracy: 0.8637 - val_loss: 0.2901 - val_accuracy: 0.8438\n",
            "Epoch 20/30\n",
            "15/14 [===============================] - 8s 562ms/step - loss: 0.3072 - accuracy: 0.8615 - val_loss: 0.2394 - val_accuracy: 0.9375\n",
            "Epoch 21/30\n",
            "15/14 [===============================] - 9s 582ms/step - loss: 0.3447 - accuracy: 0.8505 - val_loss: 0.3198 - val_accuracy: 0.9375\n",
            "Epoch 22/30\n",
            "15/14 [===============================] - 8s 556ms/step - loss: 0.3301 - accuracy: 0.8747 - val_loss: 0.2763 - val_accuracy: 0.9062\n",
            "Epoch 23/30\n",
            "15/14 [===============================] - 9s 578ms/step - loss: 0.3049 - accuracy: 0.8879 - val_loss: 0.2776 - val_accuracy: 0.9062\n",
            "Epoch 24/30\n",
            "15/14 [===============================] - 9s 567ms/step - loss: 0.2968 - accuracy: 0.8747 - val_loss: 0.2404 - val_accuracy: 0.8750\n",
            "Epoch 25/30\n",
            "15/14 [===============================] - 9s 584ms/step - loss: 0.2589 - accuracy: 0.9011 - val_loss: 0.1686 - val_accuracy: 0.9375\n",
            "Epoch 26/30\n",
            "15/14 [===============================] - 8s 556ms/step - loss: 0.2569 - accuracy: 0.8967 - val_loss: 0.1577 - val_accuracy: 0.9375\n",
            "Epoch 27/30\n",
            "15/14 [===============================] - 9s 578ms/step - loss: 0.2183 - accuracy: 0.9121 - val_loss: 0.2557 - val_accuracy: 0.9062\n",
            "Epoch 28/30\n",
            "15/14 [===============================] - 8s 559ms/step - loss: 0.2479 - accuracy: 0.8989 - val_loss: 0.2411 - val_accuracy: 0.8750\n",
            "Epoch 29/30\n",
            "15/14 [===============================] - 9s 574ms/step - loss: 0.2300 - accuracy: 0.9033 - val_loss: 0.2129 - val_accuracy: 0.9375\n",
            "Epoch 30/30\n",
            "15/14 [===============================] - 8s 557ms/step - loss: 0.2118 - accuracy: 0.9209 - val_loss: 0.1439 - val_accuracy: 0.9375\n"
          ]
        }
      ],
      "source": [
        "batch_size=32\n",
        "model_info=classifier.fit_generator(training_set,\n",
        "steps_per_epoch = 455/batch_size,\n",
        "epochs = 30,\n",
        "validation_data = test_set,\n",
        "validation_steps = 30/batch_size)"
      ]
    },
    {
      "cell_type": "code",
      "execution_count": null,
      "metadata": {
        "colab": {
          "base_uri": "https://localhost:8080/",
          "height": 50
        },
        "colab_type": "code",
        "id": "2lxtoeoNWrEE",
        "outputId": "87250923-9f6d-4815-8fff-d043831ac6b5"
      },
      "outputs": [
        {
          "name": "stdout",
          "output_type": "stream",
          "text": [
            " Total:  64\n",
            "Loss:  0.14385752379894257 Accuracy:  0.9375\n"
          ]
        }
      ],
      "source": [
        "### Performance evaluation\n",
        "#########################\n",
        "score = classifier.evaluate_generator(test_set,40/batch_size)\n",
        "print(\" Total: \", len(test_set.filenames))\n",
        "print(\"Loss: \", score[0], \"Accuracy: \", score[1])\n",
        "#print(\"Accuracy = \",score[1])"
      ]
    },
    {
      "cell_type": "code",
      "execution_count": null,
      "metadata": {
        "colab": {},
        "colab_type": "code",
        "id": "HObOH9HcWrCG"
      },
      "outputs": [],
      "source": [
        "classifier.save('/content/drive/My Drive/Colab_Project/glaucoma/Gmodel.h5')"
      ]
    },
    {
      "cell_type": "code",
      "execution_count": null,
      "metadata": {
        "colab": {},
        "colab_type": "code",
        "id": "jmMbfguSaAg9"
      },
      "outputs": [],
      "source": [
        "import os\n",
        "from keras.models import load_model\n",
        "from PIL import Image\n",
        "from keras.preprocessing import image\n",
        "import numpy as np\n",
        "import cv2"
      ]
    },
    {
      "cell_type": "code",
      "execution_count": null,
      "metadata": {
        "colab": {
          "base_uri": "https://localhost:8080/",
          "height": 34
        },
        "colab_type": "code",
        "id": "5HLo3AcCZ3Pt",
        "outputId": "2fb51f43-924e-4c30-9406-e0cd266a8917"
      },
      "outputs": [
        {
          "name": "stdout",
          "output_type": "stream",
          "text": [
            "model loaded\n"
          ]
        }
      ],
      "source": [
        "target_size = (256,256)\n",
        "model=load_model('/content/drive/My Drive/Colab_Project/glaucoma/Gmodel.h5')\n",
        "print(\"model loaded\")\n"
      ]
    },
    {
      "cell_type": "code",
      "execution_count": null,
      "metadata": {
        "colab": {
          "base_uri": "https://localhost:8080/",
          "height": 34
        },
        "colab_type": "code",
        "id": "tBYT79eYWq_2",
        "outputId": "1095a74d-cdda-4205-8b18-6e03fb1e4c4b"
      },
      "outputs": [
        {
          "name": "stdout",
          "output_type": "stream",
          "text": [
            "Glaucoma\n"
          ]
        }
      ],
      "source": [
        "import numpy as np\n",
        "from keras.preprocessing import image\n",
        "test_image = image.load_img('/content/drive/My Drive/Colab_Project/glaucoma/test/class1/Im263.jpg', target_size = (256,256))\n",
        "test_image = image.img_to_array(test_image)\n",
        "test_image = np.expand_dims(test_image, axis = 0)\n",
        "result = model.predict(test_image)\n",
        "training_set.class_indices\n",
        "if result[0][0] == 1:\n",
        " print(\"Glaucoma\")\n",
        "else:\n",
        " print(\"Not Glaucoma\")\n"
      ]
    },
    {
      "cell_type": "code",
      "execution_count": null,
      "metadata": {
        "colab": {
          "base_uri": "https://localhost:8080/",
          "height": 34
        },
        "colab_type": "code",
        "id": "YJ54sOruaOsX",
        "outputId": "cab71ecd-28ce-4953-b3f3-644c69a0d9b1"
      },
      "outputs": [
        {
          "name": "stdout",
          "output_type": "stream",
          "text": [
            "Not Glaucoma\n"
          ]
        }
      ],
      "source": [
        "import numpy as np\n",
        "from keras.preprocessing import image\n",
        "test_image = image.load_img('/content/drive/My Drive/Colab_Project/glaucoma/test/class0/Im181.jpg', target_size = (256,256))\n",
        "test_image = image.img_to_array(test_image)\n",
        "test_image = np.expand_dims(test_image, axis = 0)\n",
        "result = model.predict(test_image)\n",
        "training_set.class_indices\n",
        "if result[0][0] == 1:\n",
        " print(\"Glaucoma\")\n",
        "else:\n",
        " print(\"Not Glaucoma\")\n"
      ]
    },
    {
      "cell_type": "code",
      "execution_count": null,
      "metadata": {
        "colab": {},
        "colab_type": "code",
        "id": "s78eJbjyWq8z"
      },
      "outputs": [],
      "source": [
        "import numpy as np \n",
        "import pandas as pd \n",
        "import matplotlib.pyplot as plt\n",
        "from PIL import  Image\n",
        "%matplotlib inline\n",
        "plt.style.use('fivethirtyeight')\n",
        "def plot_model_history(model_history):\n",
        "    fig, axs = plt.subplots(1,2,figsize=(15,5))\n",
        "    # summarize history for accuracy\n",
        "    axs[0].plot(range(1,len(model_history.history['binary_accuracy'])+1),model_history.history['acc'],metrics=\"binary_accuracy\")\n",
        "    axs[0].plot(range(1,len(model_history.history['val_acc'])+1),model_history.history['val_acc'])\n",
        "    axs[0].set_title('Model Accuracy')\n",
        "    axs[0].set_ylabel('Accuracy')\n",
        "    axs[0].set_xlabel('Epoch')\n",
        "    axs[0].set_xticks(np.arange(1,len(model_history.history['acc'])+1),len(model_history.history['acc'])/10)\n",
        "    axs[0].legend(['train', 'val'], loc='best')\n",
        "    # summarize history for loss\n",
        "    axs[1].plot(range(1,len(model_history.history['loss'])+1),model_history.history['loss'])\n",
        "    axs[1].plot(range(1,len(model_history.history['val_loss'])+1),model_history.history['val_loss'])\n",
        "    axs[1].set_title('Model Loss')\n",
        "    axs[1].set_ylabel('Loss')\n",
        "    axs[1].set_xlabel('Epoch')\n",
        "    axs[1].set_xticks(np.arange(1,len(model_history.history['loss'])+1),len(model_history.history['loss'])/10)\n",
        "    axs[1].legend(['train', 'val'], loc='best')\n",
        "    plt.show()"
      ]
    },
    {
      "cell_type": "code",
      "execution_count": null,
      "metadata": {
        "colab": {
          "base_uri": "https://localhost:8080/",
          "height": 609
        },
        "colab_type": "code",
        "id": "kLqXmiqwWq58",
        "outputId": "1f967d77-635b-4d83-d7b4-df90a6ab370d"
      },
      "outputs": [
        {
          "ename": "KeyError",
          "evalue": "ignored",
          "output_type": "error",
          "traceback": [
            "\u001b[0;31m---------------------------------------------------------------------------\u001b[0m",
            "\u001b[0;31mKeyError\u001b[0m                                  Traceback (most recent call last)",
            "\u001b[0;32m<ipython-input-50-9e98b7b828a6>\u001b[0m in \u001b[0;36m<module>\u001b[0;34m()\u001b[0m\n\u001b[0;32m----> 1\u001b[0;31m \u001b[0mplot_model_history\u001b[0m\u001b[0;34m(\u001b[0m\u001b[0mmodel_info\u001b[0m\u001b[0;34m)\u001b[0m\u001b[0;34m\u001b[0m\u001b[0;34m\u001b[0m\u001b[0m\n\u001b[0m",
            "\u001b[0;32m<ipython-input-49-87dd8f4cd80f>\u001b[0m in \u001b[0;36mplot_model_history\u001b[0;34m(model_history)\u001b[0m\n\u001b[1;32m      8\u001b[0m     \u001b[0mfig\u001b[0m\u001b[0;34m,\u001b[0m \u001b[0maxs\u001b[0m \u001b[0;34m=\u001b[0m \u001b[0mplt\u001b[0m\u001b[0;34m.\u001b[0m\u001b[0msubplots\u001b[0m\u001b[0;34m(\u001b[0m\u001b[0;36m1\u001b[0m\u001b[0;34m,\u001b[0m\u001b[0;36m2\u001b[0m\u001b[0;34m,\u001b[0m\u001b[0mfigsize\u001b[0m\u001b[0;34m=\u001b[0m\u001b[0;34m(\u001b[0m\u001b[0;36m15\u001b[0m\u001b[0;34m,\u001b[0m\u001b[0;36m5\u001b[0m\u001b[0;34m)\u001b[0m\u001b[0;34m)\u001b[0m\u001b[0;34m\u001b[0m\u001b[0;34m\u001b[0m\u001b[0m\n\u001b[1;32m      9\u001b[0m     \u001b[0;31m# summarize history for accuracy\u001b[0m\u001b[0;34m\u001b[0m\u001b[0;34m\u001b[0m\u001b[0;34m\u001b[0m\u001b[0m\n\u001b[0;32m---> 10\u001b[0;31m     \u001b[0maxs\u001b[0m\u001b[0;34m[\u001b[0m\u001b[0;36m0\u001b[0m\u001b[0;34m]\u001b[0m\u001b[0;34m.\u001b[0m\u001b[0mplot\u001b[0m\u001b[0;34m(\u001b[0m\u001b[0mrange\u001b[0m\u001b[0;34m(\u001b[0m\u001b[0;36m1\u001b[0m\u001b[0;34m,\u001b[0m\u001b[0mlen\u001b[0m\u001b[0;34m(\u001b[0m\u001b[0mmodel_history\u001b[0m\u001b[0;34m.\u001b[0m\u001b[0mhistory\u001b[0m\u001b[0;34m[\u001b[0m\u001b[0;34m'binary_accuracy'\u001b[0m\u001b[0;34m]\u001b[0m\u001b[0;34m)\u001b[0m\u001b[0;34m+\u001b[0m\u001b[0;36m1\u001b[0m\u001b[0;34m)\u001b[0m\u001b[0;34m,\u001b[0m\u001b[0mmodel_history\u001b[0m\u001b[0;34m.\u001b[0m\u001b[0mhistory\u001b[0m\u001b[0;34m[\u001b[0m\u001b[0;34m'acc'\u001b[0m\u001b[0;34m]\u001b[0m\u001b[0;34m,\u001b[0m\u001b[0mmetrics\u001b[0m\u001b[0;34m=\u001b[0m\u001b[0;34m\"binary_accuracy\"\u001b[0m\u001b[0;34m)\u001b[0m\u001b[0;34m\u001b[0m\u001b[0;34m\u001b[0m\u001b[0m\n\u001b[0m\u001b[1;32m     11\u001b[0m     \u001b[0maxs\u001b[0m\u001b[0;34m[\u001b[0m\u001b[0;36m0\u001b[0m\u001b[0;34m]\u001b[0m\u001b[0;34m.\u001b[0m\u001b[0mplot\u001b[0m\u001b[0;34m(\u001b[0m\u001b[0mrange\u001b[0m\u001b[0;34m(\u001b[0m\u001b[0;36m1\u001b[0m\u001b[0;34m,\u001b[0m\u001b[0mlen\u001b[0m\u001b[0;34m(\u001b[0m\u001b[0mmodel_history\u001b[0m\u001b[0;34m.\u001b[0m\u001b[0mhistory\u001b[0m\u001b[0;34m[\u001b[0m\u001b[0;34m'val_acc'\u001b[0m\u001b[0;34m]\u001b[0m\u001b[0;34m)\u001b[0m\u001b[0;34m+\u001b[0m\u001b[0;36m1\u001b[0m\u001b[0;34m)\u001b[0m\u001b[0;34m,\u001b[0m\u001b[0mmodel_history\u001b[0m\u001b[0;34m.\u001b[0m\u001b[0mhistory\u001b[0m\u001b[0;34m[\u001b[0m\u001b[0;34m'val_acc'\u001b[0m\u001b[0;34m]\u001b[0m\u001b[0;34m)\u001b[0m\u001b[0;34m\u001b[0m\u001b[0;34m\u001b[0m\u001b[0m\n\u001b[1;32m     12\u001b[0m     \u001b[0maxs\u001b[0m\u001b[0;34m[\u001b[0m\u001b[0;36m0\u001b[0m\u001b[0;34m]\u001b[0m\u001b[0;34m.\u001b[0m\u001b[0mset_title\u001b[0m\u001b[0;34m(\u001b[0m\u001b[0;34m'Model Accuracy'\u001b[0m\u001b[0;34m)\u001b[0m\u001b[0;34m\u001b[0m\u001b[0;34m\u001b[0m\u001b[0m\n",
            "\u001b[0;31mKeyError\u001b[0m: 'binary_accuracy'"
          ]
        },
        {
          "data": {
            "image/png": "[encoded data removed]",
            "text/plain": [
              "<Figure size 1080x360 with 2 Axes>"
            ]
          },
          "metadata": {
            "tags": []
          },
          "output_type": "display_data"
        }
      ],
      "source": [
        "plot_model_history(model_info)"
      ]
    }
  ],
  "metadata": {
    "accelerator": "GPU",
    "colab": {
      "name": "Copy of Copy of GlaucomaTest.ipynb",
      "provenance": []
    },
    "kernelspec": {
      "display_name": "Python 3",
      "name": "python3"
    }
  },
  "nbformat": 4,
  "nbformat_minor": 0
}
